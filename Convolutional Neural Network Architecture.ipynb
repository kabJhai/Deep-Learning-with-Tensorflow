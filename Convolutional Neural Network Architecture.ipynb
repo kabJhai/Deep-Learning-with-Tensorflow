{
 "cells": [
  {
   "cell_type": "markdown",
   "metadata": {},
   "source": [
    "# Convolutional Neural Network Architecture\n",
    "\n",
    "## Layers of CNN\n",
    "\n",
    "## 1. Convolution Layer\n",
    "    \n",
    "   This layer is mainly focussed on detecting the features of an image. <br/>\n",
    "    Convolution is a function that is able to detect an edge, orientation and small patterns in an image.\n",
    "    The process is mainly done by using a kernel or mask.<br/> At the end we are going to end up with multiple convolved images. Which is called a feature map.<br/>\n",
    "    Kernels have different values based on the feature we want to extract. The result is an element by element multiplication of the kernel matrix and the image matrix.\n",
    "    After converting the image into a feature map we are going to use an activation function to provide an output for the convolution layer.\n",
    "    \n",
    "## 2. Pooling Layer\n",
    "\n",
    "There are multiple pooling functions that act on the inputed value. The main purpose of the pooling is to decrease the dimension of the matrix and pass it to the next layer.\n",
    "There are two types of pooling layers.\n",
    "#### 1. Max Pooling\n",
    "        - Selects the maximum value of the selected window of selected features.\n",
    "        - It preserves the detected features.\n",
    "#### 2. Average Pooling\n",
    "       - Selects the average value of the selected window of selected features.\n",
    "       - It downsamples the feature map\n",
    "\n",
    "## 3. Fully Connected Layer\n",
    "\n",
    "Convert the matrix from the previous layer and convert it to a vector. Then the vector is going to be passed to an activation function or multiple activation functions to produce the desired result.\n",
    "\n",
    "## Activation Functions\n",
    "\n",
    "Mostly <em>Softmax and ReLU</em> are used as activation functions.\n",
    "### RELU\n",
    "   - Mostly focusses on cleaning the data\n",
    "   \n",
    "### Softmax\n",
    "   - Mostly used to provide a probability of a class."
   ]
  },
  {
   "cell_type": "code",
   "execution_count": null,
   "metadata": {},
   "outputs": [],
   "source": []
  }
 ],
 "metadata": {
  "kernelspec": {
   "display_name": "Python 3",
   "language": "python",
   "name": "python3"
  },
  "language_info": {
   "codemirror_mode": {
    "name": "ipython",
    "version": 3
   },
   "file_extension": ".py",
   "mimetype": "text/x-python",
   "name": "python",
   "nbconvert_exporter": "python",
   "pygments_lexer": "ipython3",
   "version": "3.6.6"
  }
 },
 "nbformat": 4,
 "nbformat_minor": 4
}
