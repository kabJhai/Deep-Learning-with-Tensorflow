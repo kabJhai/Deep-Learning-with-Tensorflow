{
 "cells": [
  {
   "cell_type": "markdown",
   "metadata": {},
   "source": [
    "# Introduction to RNN\n",
    "\n",
    "RNN is a neural networks that is good to work on sequential data. What makes RNN different from CNN is that it stores previous states or training experiances up to the current state. After each epoch or iteration the previous state of the training is used as an input to the next training. <br/>\n",
    "\n"
   ]
  },
  {
   "cell_type": "markdown",
   "metadata": {},
   "source": [
    "### Examples of RNN:\n",
    "- Speech Recognition\n",
    "    Take speech as an input and convert it to an action or even text.\n",
    "- Image captioning\n",
    "    Analyse the image and produce an image caption\n",
    "- Sentiment Analysis\n",
    "    Analyse text and produce the sentiment based on the content of the text."
   ]
  },
  {
   "cell_type": "markdown",
   "metadata": {},
   "source": [
    "### Types of RNN\n",
    "- <strong>One to Many</strong><br/>\n",
    "Get a single input and generate multiple outputs.<br/> <em>Speach recognition, Music generation</em>\n",
    "- <strong>Many to One</strong><br/>\n",
    "Get multiple inputs like text and produce a single result.<br/>\n",
    "<em>Sentiment Analysis</em>\n",
    "- <strong>Many to Many</"
   ]
  },
  {
   "cell_type": "markdown",
   "metadata": {},
   "source": [
    "## RNN Problems\n",
    "\n",
    "- It is computationally expensive to store and work on previous states.\n",
    "- Extremely sensetive to changes. This makes it hard to optimize the model.\n",
    "- The gradient may grow exponentially or become zero. This makes it hard to train the model."
   ]
  },
  {
   "cell_type": "code",
   "execution_count": null,
   "metadata": {},
   "outputs": [],
   "source": []
  }
 ],
 "metadata": {
  "kernelspec": {
   "display_name": "Python 3",
   "language": "python",
   "name": "python3"
  },
  "language_info": {
   "codemirror_mode": {
    "name": "ipython",
    "version": 3
   },
   "file_extension": ".py",
   "mimetype": "text/x-python",
   "name": "python",
   "nbconvert_exporter": "python",
   "pygments_lexer": "ipython3",
   "version": "3.6.6"
  }
 },
 "nbformat": 4,
 "nbformat_minor": 4
}
