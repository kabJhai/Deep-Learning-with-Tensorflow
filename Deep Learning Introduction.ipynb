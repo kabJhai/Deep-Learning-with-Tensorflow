{
 "cells": [
  {
   "cell_type": "markdown",
   "metadata": {},
   "source": [
    "# Introduction to Deep Learning"
   ]
  },
  {
   "cell_type": "markdown",
   "metadata": {},
   "source": [
    "## Applications of Deep Learning\n",
    "1. Color Restoration\n",
    "2. Speech Enhancement\n",
    "3. Automatic Hand Writing Generation\n",
    "4. Automatic Machine Translation\n",
    "5. Automatically Adding Sound to Movies\n",
    "6. Object Classification\n",
    "\n",
    "## Neural Networks\n",
    "Artificial Neural Networks Contain  the same structure as biological neural networks. \n",
    "They contain dendrites , soma and axons\n",
    "Dendrites: Used to input information into the synapse. The information can be either from other sensors or another neuron.\n",
    "\n",
    "Soma: It is where the computation occurs. It contains activation function.\n",
    "\n",
    "Axons: Used to transfer the output of the synapses to another neuron.\n",
    "\n",
    "The main topics associated with neural networks are:\n",
    "\n",
    "1. Forward Propagation\n",
    "2. Backward Propagation\n",
    "3. Activation Functions"
   ]
  },
  {
   "cell_type": "markdown",
   "metadata": {},
   "source": [
    "## Convolutional Neural Network\n",
    "\n",
    "Similar as neural networks\n",
    "Take images as an input\n",
    "Incorporate properties that make the training process much more efficient.\n",
    "Make the forward propagation much more efficient.\n",
    " 1. The input layer:\n",
    "nxmx1 for grayscale images\n",
    "nxmx3 for colored images\n",
    "\n",
    "We create a filter and then move the filter one stride and do the dot product and store it at the empty matrix.\n",
    "\n",
    "Why not flatten the input?\n",
    "- It will be computationally expensive\n",
    "- And decreasing rather than flattening will decrease the chance of over-fitting.\n",
    " 2. The pooling Layer\n",
    "- To reduce the spacial dimensions of the data.\n",
    "- It contains two types of pooling:\n",
    "       -> Max pooling\n",
    "           - Get the max of the area being scanned.\n",
    "           - Provides spacial variants to recognize objects even if the objects do not resemble.\n",
    " -> Average pooling\n",
    "           - Compute the average of the area being scanned.\n",
    "3. Fully-Connected Layer\n",
    "    Takes an input from previous layer and output an n-dimensional vector based on the required number of classes.\n",
    "\n",
    "#Education #AI"
   ]
  },
  {
   "cell_type": "markdown",
   "metadata": {},
   "source": [
    "## Recurrent Neural Networks\n",
    "\n",
    "RNN are networks with loops.\n",
    "Are good with modeling patterns in sequences of data such as text, genomes, stocks, handwriting and etc.\n",
    "\n",
    "Types of RNN based on input and output\n",
    "One to One\n",
    "One to Many\n",
    "Many to One\n",
    "Many to Many\n",
    "\n",
    "Types of RNN\n",
    "1. Long Short-Term Memory Model (LSTM)\n",
    "    - Application \n",
    "           - Image Generation\n",
    "           - Handwriting Generation\n",
    "           - Automatic Captioning of Images\n",
    "           - Automatic Description of Videos \n",
    "#AI #Education"
   ]
  },
  {
   "cell_type": "markdown",
   "metadata": {},
   "source": [
    "## Auto Encoders\n",
    "\n",
    "\n",
    "- Data Compression algorithms in which the compression and decompression is learned based on the data.\n",
    "- Auto-encoders are data specific.\n",
    "- Data denoising and dimensionality reduction of data.\n",
    "\n",
    "- Is unsupervised neural network model\n",
    "- It used back propagation by setting the target the same as the input.\n",
    "\n",
    "Types of AutoEncoders\n",
    "- Restricted Boltzmann Machines\n",
    "      - Fix imbalanced datasets\n",
    "      - Estimating missing values\n",
    "      - Automatic feature extraction of unstructured data\n",
    "#Education #AI"
   ]
  },
  {
   "cell_type": "code",
   "execution_count": null,
   "metadata": {},
   "outputs": [],
   "source": []
  }
 ],
 "metadata": {
  "kernelspec": {
   "display_name": "Python 3",
   "language": "python",
   "name": "python3"
  },
  "language_info": {
   "codemirror_mode": {
    "name": "ipython",
    "version": 3
   },
   "file_extension": ".py",
   "mimetype": "text/x-python",
   "name": "python",
   "nbconvert_exporter": "python",
   "pygments_lexer": "ipython3",
   "version": "3.6.6"
  }
 },
 "nbformat": 4,
 "nbformat_minor": 4
}
