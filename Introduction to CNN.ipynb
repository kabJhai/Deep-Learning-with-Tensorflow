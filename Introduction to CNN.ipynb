{
 "cells": [
  {
   "cell_type": "markdown",
   "metadata": {},
   "source": [
    "# Introduction to Convolutional Neural Networks\n",
    "\n",
    "## Original Goal of CNN\n",
    "The original goal of CNN is based on how to create a good representations of the visual world ina way it could be used to support recognition.\n",
    "\n",
    "The CNN starts with an input image and extracts certain features that are essential to forming certain parts of the object. Then it pulls those parts together to form the overall image. \n",
    "\n",
    "## CNN For classification\n",
    "\n",
    "One of the weakness in shallow neural networks is in the selection of the features that differentiate the image. And passing the selected features to the next level. What makes it hard is that the feature selection is manual.\n",
    "\n",
    "Convolutional Neural Networks automate the process of selecting features of an image and increased the number of hidden layers to process the features. \n",
    "\n",
    "## Deep Learning Pipeline\n",
    "\n",
    "### Pre pocessing\n",
    "\n",
    "- Convert the images to a proper readable format for the model.\n",
    "\n",
    "### Training of the Model\n",
    "-  Train the neural network with the preprocessed data.\n",
    "-  Use the training set to train the model about the images\n",
    "\n",
    "### Inference of the Model\n",
    "\n",
    "- Use different data to check the performance of the model and then deploy the model based on the result we obtain.\n",
    "\n",
    "\n",
    "## Layers in CNN\n",
    "\n",
    "1. Convolution Layer\n",
    "Applies a convolution operation to the input.\n",
    "2. Pooling Layer\n",
    "Combines the cluster of outputs in the previous layer and passes it to the next layer\n",
    "3. Fully Connected Layer\n",
    "\n",
    "\n",
    "## Applications\n",
    "1. Signal Image Processing\n",
    "2. Handritten text recognition\n",
    "3. Segmentation\n",
    "4. Speach Recognition\n",
    "5. Natural Language Processing"
   ]
  },
  {
   "cell_type": "code",
   "execution_count": null,
   "metadata": {},
   "outputs": [],
   "source": []
  }
 ],
 "metadata": {
  "kernelspec": {
   "display_name": "Python 3",
   "language": "python",
   "name": "python3"
  },
  "language_info": {
   "codemirror_mode": {
    "name": "ipython",
    "version": 3
   },
   "file_extension": ".py",
   "mimetype": "text/x-python",
   "name": "python",
   "nbconvert_exporter": "python",
   "pygments_lexer": "ipython3",
   "version": "3.6.6"
  }
 },
 "nbformat": 4,
 "nbformat_minor": 4
}
