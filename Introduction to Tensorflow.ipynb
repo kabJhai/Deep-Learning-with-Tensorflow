{
 "cells": [
  {
   "cell_type": "code",
   "execution_count": 1,
   "metadata": {},
   "outputs": [],
   "source": [
    "import tensorflow as tf"
   ]
  },
  {
   "cell_type": "markdown",
   "metadata": {},
   "source": [
    "Tensor flow works as a graph. The tensor operations are considered a node while a tensor is an edge in the graph."
   ]
  },
  {
   "cell_type": "code",
   "execution_count": 2,
   "metadata": {},
   "outputs": [],
   "source": [
    "g = tf.Graph() #Create a tensorflow graph"
   ]
  },
  {
   "cell_type": "code",
   "execution_count": 3,
   "metadata": {},
   "outputs": [],
   "source": [
    "#Adding constants means adding operations that are\n",
    "#going to produce the value of the constant\n",
    "with g.as_default():\n",
    "    a = tf.constant([2], name ='constant_a')\n",
    "    b = tf.constant([3], name = 'constant_b')"
   ]
  },
  {
   "cell_type": "code",
   "execution_count": 4,
   "metadata": {},
   "outputs": [
    {
     "data": {
      "text/plain": [
       "<tf.Tensor 'constant_a:0' shape=(1,) dtype=int32>"
      ]
     },
     "execution_count": 4,
     "metadata": {},
     "output_type": "execute_result"
    }
   ],
   "source": [
    "a"
   ]
  },
  {
   "cell_type": "code",
   "execution_count": 5,
   "metadata": {},
   "outputs": [],
   "source": [
    "sess = tf.compat.v1.Session(graph = g) #Create a session\n",
    "result = sess.run(a) #Run the session on a constant\n",
    "sess.close() #close a session\n",
    "#To automatically close a session it can be used with the operaiton 'with'"
   ]
  },
  {
   "cell_type": "code",
   "execution_count": 6,
   "metadata": {},
   "outputs": [
    {
     "name": "stdout",
     "output_type": "stream",
     "text": [
      "[2]\n"
     ]
    }
   ],
   "source": [
    "print(result)"
   ]
  },
  {
   "cell_type": "code",
   "execution_count": 7,
   "metadata": {},
   "outputs": [
    {
     "name": "stdout",
     "output_type": "stream",
     "text": [
      "Tensor(\"Add:0\", shape=(1,), dtype=int32)\n"
     ]
    }
   ],
   "source": [
    "#Operation over tensors\n",
    "with g.as_default():\n",
    "    c = tf.add(a,b)\n",
    "print(c)"
   ]
  },
  {
   "cell_type": "code",
   "execution_count": 8,
   "metadata": {},
   "outputs": [],
   "source": [
    "#To see the result we need to run a session\n",
    "sess = tf.compat.v1.Session(graph = g)\n",
    "result = sess.run(c)\n",
    "sess.close()"
   ]
  },
  {
   "cell_type": "code",
   "execution_count": 9,
   "metadata": {},
   "outputs": [
    {
     "name": "stdout",
     "output_type": "stream",
     "text": [
      "[5]\n"
     ]
    }
   ],
   "source": [
    "print(result)"
   ]
  },
  {
   "cell_type": "markdown",
   "metadata": {},
   "source": [
    "## Multi Dimensional Arrays"
   ]
  },
  {
   "cell_type": "code",
   "execution_count": 10,
   "metadata": {},
   "outputs": [
    {
     "name": "stdout",
     "output_type": "stream",
     "text": [
      "0 Dimensional:\n",
      " 1\n",
      "\n",
      "0 Dimensional shape:\n",
      " ()\n",
      "\n",
      "1 Dimensional:\n",
      " [3 5 8]\n",
      "\n",
      "1 Dimensional shape:\n",
      " (3,)\n",
      "\n",
      "2 Dimensional:\n",
      " [[2 4 6]\n",
      " [0 8 5]\n",
      " [6 3 2]]\n",
      "\n",
      "2 Dimensional shape:\n",
      " (3, 3)\n",
      "\n",
      "3 Dimensional:\n",
      " [[[ 1  2  3]\n",
      "  [ 3  7  4]\n",
      "  [ 2 35  5]]\n",
      "\n",
      " [[ 4  5  6]\n",
      "  [ 5  6  7]\n",
      "  [ 6  7  8]]\n",
      "\n",
      " [[ 7  8  9]\n",
      "  [ 8  9 10]\n",
      "  [ 9 10 11]]]\n",
      "\n",
      "3 Dimensional shape:\n",
      " (3, 3, 3)\n",
      "\n",
      "Addition Result:\n",
      " Tensor(\"Add:0\", shape=(), dtype=int32) \n",
      "\n",
      "Multiplication Reslut:\n",
      " Tensor(\"MatMul:0\", shape=(3, 3, 3), dtype=int32) \n",
      "\n"
     ]
    }
   ],
   "source": [
    "g2 = tf.Graph()\n",
    "with g2.as_default():\n",
    "    zeroD = tf.constant(1)\n",
    "    oneD = tf.constant([3,5,8])\n",
    "    twoD = tf.constant([[2,4,6],[0,8,5,],[6,3,2]])\n",
    "    threeD = tf.constant([ [[1,2,3],[3,7,4],[2,35,5]] , [[4,5,6],[5,6,7],[6,7,8]] , [[7,8,9],[8,9,10],[9,10,11]] ])\n",
    "    addition = tf.add(zeroD,zeroD)\n",
    "    multiplication = tf.matmul(threeD,threeD)\n",
    "    \n",
    "with tf.compat.v1.Session(graph = g2) as sess:\n",
    "    result = sess.run(zeroD)\n",
    "    print(\"0 Dimensional:\\n %s\\n\"%result)\n",
    "    print(\"0 Dimensional shape:\\n %s\\n\"%zeroD.shape)\n",
    "    result = sess.run(oneD)\n",
    "    print(\"1 Dimensional:\\n %s\\n\"%result)\n",
    "    print(\"1 Dimensional shape:\\n %s\\n\"%oneD.shape)\n",
    "    result = sess.run(twoD)\n",
    "    print(\"2 Dimensional:\\n %s\\n\"%result)\n",
    "    print(\"2 Dimensional shape:\\n %s\\n\"%twoD.shape)\n",
    "    result = sess.run(threeD)\n",
    "    print(\"3 Dimensional:\\n %s\\n\"%result)\n",
    "    print(\"3 Dimensional shape:\\n %s\\n\"%threeD.shape)\n",
    "    print(\"Addition Result:\\n %s \\n\"%addition)\n",
    "    print(\"Multiplication Reslut:\\n %s \\n\"%multiplication)"
   ]
  },
  {
   "cell_type": "markdown",
   "metadata": {},
   "source": [
    "## Variables in Tensorflow"
   ]
  },
  {
   "cell_type": "code",
   "execution_count": 11,
   "metadata": {},
   "outputs": [],
   "source": [
    "var = tf.Variable(1) #Defining a variable"
   ]
  },
  {
   "cell_type": "code",
   "execution_count": 12,
   "metadata": {},
   "outputs": [],
   "source": [
    "update = tf.compat.v1.assign(var, var *2) \n",
    "#Defining the update rate"
   ]
  },
  {
   "cell_type": "code",
   "execution_count": 13,
   "metadata": {},
   "outputs": [],
   "source": [
    "init_op = tf.compat.v1.global_variables_initializer()\n",
    "#Variable initializer"
   ]
  },
  {
   "cell_type": "code",
   "execution_count": 14,
   "metadata": {},
   "outputs": [
    {
     "name": "stdout",
     "output_type": "stream",
     "text": [
      "WARNING:tensorflow:From c:\\users\\kabil\\appdata\\local\\programs\\python\\python36\\lib\\site-packages\\tensorflow_core\\python\\ops\\resource_variable_ops.py:1635: calling BaseResourceVariable.__init__ (from tensorflow.python.ops.resource_variable_ops) with constraint is deprecated and will be removed in a future version.\n",
      "Instructions for updating:\n",
      "If using Keras pass *_constraint arguments to layers.\n",
      "1\n",
      "2\n",
      "4\n",
      "8\n"
     ]
    }
   ],
   "source": [
    "with tf.compat.v1.Session() as session:\n",
    "    var = tf.Variable(1)\n",
    "    update = tf.compat.v1.assign(var, var *2)\n",
    "    init_op = tf.compat.v1.global_variables_initializer()\n",
    "    session.run(init_op)\n",
    "    print(session.run(var))\n",
    "    for _ in range(3):\n",
    "        session.run(update)\n",
    "        print(session.run(var))"
   ]
  },
  {
   "cell_type": "markdown",
   "metadata": {},
   "source": [
    "## Placeholders\n",
    "\n",
    "Placeholders are input ways in which your model accepts inputs."
   ]
  },
  {
   "cell_type": "code",
   "execution_count": 15,
   "metadata": {
    "scrolled": true
   },
   "outputs": [],
   "source": [
    "tf.compat.v1.disable_eager_execution() #This is because I am on the latest vesion\n",
    "a = tf.compat.v1.placeholder(tf.float32) #Define a placeholder"
   ]
  },
  {
   "cell_type": "code",
   "execution_count": 16,
   "metadata": {},
   "outputs": [],
   "source": [
    "b = a * 5 #Define the operation "
   ]
  },
  {
   "cell_type": "code",
   "execution_count": 17,
   "metadata": {},
   "outputs": [
    {
     "name": "stdout",
     "output_type": "stream",
     "text": [
      "25.0\n"
     ]
    }
   ],
   "source": [
    "with tf.compat.v1.Session() as sees:\n",
    "    result = sees.run(b,feed_dict = {a:5.0})\n",
    "    print(result)"
   ]
  },
  {
   "cell_type": "code",
   "execution_count": 18,
   "metadata": {},
   "outputs": [
    {
     "name": "stdout",
     "output_type": "stream",
     "text": [
      "[ 25.  50. 495.]\n"
     ]
    }
   ],
   "source": [
    "with tf.compat.v1.Session() as sees:\n",
    "    #We can pass anything as an input\n",
    "    result = sees.run(b,feed_dict = {a:[5.0,10,99]})\n",
    "    print(result)"
   ]
  },
  {
   "cell_type": "code",
   "execution_count": null,
   "metadata": {},
   "outputs": [],
   "source": []
  }
 ],
 "metadata": {
  "kernelspec": {
   "display_name": "Python 3",
   "language": "python",
   "name": "python3"
  },
  "language_info": {
   "codemirror_mode": {
    "name": "ipython",
    "version": 3
   },
   "file_extension": ".py",
   "mimetype": "text/x-python",
   "name": "python",
   "nbconvert_exporter": "python",
   "pygments_lexer": "ipython3",
   "version": "3.6.6"
  }
 },
 "nbformat": 4,
 "nbformat_minor": 4
}
