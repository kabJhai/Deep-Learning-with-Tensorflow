{
 "cells": [
  {
   "cell_type": "markdown",
   "metadata": {},
   "source": [
    "# Restricted Boltzmann Machines\n",
    "\n",
    "- Are shallow neural networks with only <strong>two layers</strong>. They are unsupervised way of learning the pattern of a data. RBM finds patterns by reconstructing input data.<br/>\n",
    "- After processing the input the output of the hidden layer is lower in dimension.<br>\n",
    "\n",
    "- What makes RBM is that neurons on the same level are not connected with each other. This is why it is considered to be restricted.\n",
    "\n",
    "## Applications of RBM\n",
    "- Dimensionality Reduction\n",
    "- Feature Extraction\n",
    "- Collaborative Filtering\n",
    "- Deep Blief Networks"
   ]
  },
  {
   "cell_type": "markdown",
   "metadata": {},
   "source": [
    "## How does RBM work?\n",
    "\n",
    "- When processing an image the pixels are processed by the input layer.\n",
    "- The RBM learn patterns and extract features by reconstructing the input.\n",
    "- The learning process consists of several forward and backward passes.\n",
    "\n",
    "## Steps in training the RBM\n",
    "\n",
    "### Step 1: Forward Pass\n",
    "- The input is converted to a binary value. Then the vector input is passed and multiplied by weights and an overall bias is added to it.\n",
    "- Then an activation function is applied to the value to determine which of the hidden layers is to be activated.\n",
    "- <strong>Overall</strong> convert the input value to a binary representaion done by the hidden layer.\n",
    "- Make stochastic decisions on which neurons to activate.\n",
    "\n",
    "### Step 2: Backward Pass\n",
    "- Activated neurons in the hidden layer pass the data back to the input layer to reconstruct the input.\n",
    "- The data from the hidden layer passes through the same process as the input layer (Multiplied by the same weight value and an overall bias is added to it.).\n",
    "\n",
    "### Step 3: Quality Assessment\n",
    "- By comparing the input and the constructed output an error is calculated.\n",
    "- A squared difference of the previous two steps is calculated \n",
    "\n",
    "The three steps are repeated till the error is deemed to be sufficient."
   ]
  },
  {
   "cell_type": "markdown",
   "metadata": {},
   "source": [
    "## Advantages of RBM\n",
    "- Are good at handling unlabeled data.\n",
    "- Extract features directly from the inputs\n",
    "- Are efficient at dimensionality reduction compared to Principal Component Analysis.\n",
    "- Encode their own structures.\n",
    "\n",
    "## Difference between RBM and Autoencoder\n",
    "On the one hand, RBM estimate the over all probability distribution of the potential outcomes by allowing random flactuations based on the historical data. The outputs may be different based on the previous state.\n",
    "On the other hand, Autoenconders use deterministic approach to produce an outcome. The output is "
   ]
  }
 ],
 "metadata": {
  "kernelspec": {
   "display_name": "Python 3",
   "language": "python",
   "name": "python3"
  },
  "language_info": {
   "codemirror_mode": {
    "name": "ipython",
    "version": 3
   },
   "file_extension": ".py",
   "mimetype": "text/x-python",
   "name": "python",
   "nbconvert_exporter": "python",
   "pygments_lexer": "ipython3",
   "version": "3.6.6"
  }
 },
 "nbformat": 4,
 "nbformat_minor": 4
}
