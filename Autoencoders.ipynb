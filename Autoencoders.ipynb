{
 "cells": [
  {
   "cell_type": "markdown",
   "metadata": {},
   "source": [
    "# Autoencoders\n",
    "\n",
    "Unsupervised learning algorithm that is able to extract patterns and extract the features automaticly. In such a way that it can differentiate the images based on the extracted features.\n",
    "\n",
    "It does feature extraction with out the presence of labels.\n",
    "\n",
    "- The main goal of autoencoders is to take unlabeled inputs, encode them and reconstruct them based on the learned features.\n",
    "\n",
    "High demensional data makes it hard to train a model. That's why dimension reduction is crucial in machine learning.\n",
    "\n",
    "- Autoencoders are based on Restricted Boltzmann Machines\n",
    "\n",
    "## Autoencoder Applications\n",
    "- Feature Extraction\n",
    "- Data Compression\n",
    "- Learning generative models of data\n",
    "- Dimensionality reduction"
   ]
  },
  {
   "cell_type": "markdown",
   "metadata": {},
   "source": [
    "## Autoencoder is divided in to two parts\n",
    "- The Encoder<br/>\n",
    "    Compress the representation of the input to a smaller dimension while maintaining the important features. The output of the encoder is represented in the code layer.\n",
    "- The Decoder<br/>\n",
    "    Reconstruct the input based on the output of the encoder. Duing the learning process the decoders output is used to find the loss and enforce the encoder to consider the important features.\n",
    "\n",
    "## The Learning Process\n",
    "- Use back propagation in the learning process and the loss is used to maintain the learning process to get at a stable stage.\n",
    "- The value of the loss is considered during the learning process and the smaller the loss value the better performance of the model."
   ]
  },
  {
   "cell_type": "code",
   "execution_count": null,
   "metadata": {},
   "outputs": [],
   "source": []
  }
 ],
 "metadata": {
  "kernelspec": {
   "display_name": "Python 3",
   "language": "python",
   "name": "python3"
  },
  "language_info": {
   "codemirror_mode": {
    "name": "ipython",
    "version": 3
   },
   "file_extension": ".py",
   "mimetype": "text/x-python",
   "name": "python",
   "nbconvert_exporter": "python",
   "pygments_lexer": "ipython3",
   "version": "3.6.6"
  }
 },
 "nbformat": 4,
 "nbformat_minor": 4
}
