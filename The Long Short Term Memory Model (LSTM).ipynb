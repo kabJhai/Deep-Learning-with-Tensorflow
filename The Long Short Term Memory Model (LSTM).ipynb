{
 "cells": [
  {
   "cell_type": "markdown",
   "metadata": {},
   "source": [
    "# The Long Short Term Memory Model (LSTM)\n",
    "\n",
    "RNN in general has multiple problem like vanishing gradient, exploding gradient, and keeping track of previous states. Because of the issues stated learning long sequence of data is hard for RNN. To solve the stated problems we can use LSTM."
   ]
  },
  {
   "cell_type": "markdown",
   "metadata": {},
   "source": [
    "## Components of LSTM\n",
    "1. Memory Cell\n",
    "    - Is used to store or hold data.\n",
    "2. Write Gate\n",
    "    - Responsible to write data into the memory cell.\n",
    "3. Read Gate\n",
    "    - Responsible to read data from the memory cell.\n",
    "4. Forget Gate\n",
    "    - Maintain or delete data and determine how much information is too old to delete."
   ]
  },
  {
   "cell_type": "markdown",
   "metadata": {},
   "source": []
  }
 ],
 "metadata": {
  "kernelspec": {
   "display_name": "Python 3",
   "language": "python",
   "name": "python3"
  },
  "language_info": {
   "codemirror_mode": {
    "name": "ipython",
    "version": 3
   },
   "file_extension": ".py",
   "mimetype": "text/x-python",
   "name": "python",
   "nbconvert_exporter": "python",
   "pygments_lexer": "ipython3",
   "version": "3.6.6"
  }
 },
 "nbformat": 4,
 "nbformat_minor": 4
}
