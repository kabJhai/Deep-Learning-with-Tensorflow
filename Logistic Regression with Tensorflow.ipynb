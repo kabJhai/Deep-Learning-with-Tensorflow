{
 "cells": [
  {
   "cell_type": "markdown",
   "metadata": {},
   "source": [
    "## Import important libraries and packages"
   ]
  },
  {
   "cell_type": "code",
   "execution_count": 1,
   "metadata": {},
   "outputs": [
    {
     "name": "stdout",
     "output_type": "stream",
     "text": [
      "WARNING:tensorflow:From c:\\users\\kabil\\appdata\\local\\programs\\python\\python36\\lib\\site-packages\\tensorflow_core\\python\\compat\\v2_compat.py:88: disable_resource_variables (from tensorflow.python.ops.variable_scope) is deprecated and will be removed in a future version.\n",
      "Instructions for updating:\n",
      "non-resource variables are not supported in the long term\n"
     ]
    }
   ],
   "source": [
    "import tensorflow as tf\n",
    "import pandas as pd\n",
    "import numpy as np\n",
    "import time\n",
    "from sklearn.datasets import load_iris #Iris dataset\n",
    "from sklearn.model_selection import train_test_split\n",
    "import matplotlib.pyplot as plt\n",
    "tf.compat.v1.disable_v2_behavior()"
   ]
  },
  {
   "cell_type": "markdown",
   "metadata": {},
   "source": [
    "The data is collected from human iris containing petal length, width and sepal length and width"
   ]
  },
  {
   "cell_type": "code",
   "execution_count": 2,
   "metadata": {},
   "outputs": [
    {
     "name": "stdout",
     "output_type": "stream",
     "text": [
      "[0 0 0 0 0 0 0 0 0 0 0 0 0 0 0 0 0 0 0 0 0 0 0 0 0 0 0 0 0 0 0 0 0 0 0 0 0\n",
      " 0 0 0 0 0 0 0 0 0 0 0 0 0 1 1 1 1 1 1 1 1 1 1 1 1 1 1 1 1 1 1 1 1 1 1 1 1\n",
      " 1 1 1 1 1 1 1 1 1 1 1 1 1 1 1 1 1 1 1 1 1 1 1 1 1 1 2 2 2 2 2 2 2 2 2 2 2\n",
      " 2 2 2 2 2 2 2 2 2 2 2 2 2 2 2 2 2 2 2 2 2 2 2 2 2 2 2 2 2 2 2 2 2 2 2 2 2\n",
      " 2]\n",
      "[[1 0 0]\n",
      " [1 0 0]\n",
      " [1 0 0]\n",
      " [1 0 0]\n",
      " [1 0 0]\n",
      " [1 0 0]\n",
      " [1 0 0]\n",
      " [1 0 0]\n",
      " [1 0 0]\n",
      " [1 0 0]\n",
      " [1 0 0]\n",
      " [1 0 0]\n",
      " [1 0 0]\n",
      " [1 0 0]\n",
      " [1 0 0]\n",
      " [1 0 0]\n",
      " [1 0 0]\n",
      " [1 0 0]\n",
      " [1 0 0]\n",
      " [1 0 0]\n",
      " [1 0 0]\n",
      " [1 0 0]\n",
      " [1 0 0]\n",
      " [1 0 0]\n",
      " [1 0 0]\n",
      " [1 0 0]\n",
      " [1 0 0]\n",
      " [1 0 0]\n",
      " [1 0 0]\n",
      " [1 0 0]\n",
      " [1 0 0]\n",
      " [1 0 0]\n",
      " [1 0 0]\n",
      " [1 0 0]\n",
      " [1 0 0]\n",
      " [1 0 0]\n",
      " [1 0 0]\n",
      " [1 0 0]\n",
      " [1 0 0]\n",
      " [1 0 0]\n",
      " [1 0 0]\n",
      " [1 0 0]\n",
      " [1 0 0]\n",
      " [1 0 0]\n",
      " [1 0 0]\n",
      " [1 0 0]\n",
      " [1 0 0]\n",
      " [1 0 0]\n",
      " [1 0 0]\n",
      " [1 0 0]\n",
      " [0 1 0]\n",
      " [0 1 0]\n",
      " [0 1 0]\n",
      " [0 1 0]\n",
      " [0 1 0]\n",
      " [0 1 0]\n",
      " [0 1 0]\n",
      " [0 1 0]\n",
      " [0 1 0]\n",
      " [0 1 0]\n",
      " [0 1 0]\n",
      " [0 1 0]\n",
      " [0 1 0]\n",
      " [0 1 0]\n",
      " [0 1 0]\n",
      " [0 1 0]\n",
      " [0 1 0]\n",
      " [0 1 0]\n",
      " [0 1 0]\n",
      " [0 1 0]\n",
      " [0 1 0]\n",
      " [0 1 0]\n",
      " [0 1 0]\n",
      " [0 1 0]\n",
      " [0 1 0]\n",
      " [0 1 0]\n",
      " [0 1 0]\n",
      " [0 1 0]\n",
      " [0 1 0]\n",
      " [0 1 0]\n",
      " [0 1 0]\n",
      " [0 1 0]\n",
      " [0 1 0]\n",
      " [0 1 0]\n",
      " [0 1 0]\n",
      " [0 1 0]\n",
      " [0 1 0]\n",
      " [0 1 0]\n",
      " [0 1 0]\n",
      " [0 1 0]\n",
      " [0 1 0]\n",
      " [0 1 0]\n",
      " [0 1 0]\n",
      " [0 1 0]\n",
      " [0 1 0]\n",
      " [0 1 0]\n",
      " [0 1 0]\n",
      " [0 1 0]\n",
      " [0 1 0]\n",
      " [0 1 0]\n",
      " [0 0 1]\n",
      " [0 0 1]\n",
      " [0 0 1]\n",
      " [0 0 1]\n",
      " [0 0 1]\n",
      " [0 0 1]\n",
      " [0 0 1]\n",
      " [0 0 1]\n",
      " [0 0 1]\n",
      " [0 0 1]\n",
      " [0 0 1]\n",
      " [0 0 1]\n",
      " [0 0 1]\n",
      " [0 0 1]\n",
      " [0 0 1]\n",
      " [0 0 1]\n",
      " [0 0 1]\n",
      " [0 0 1]\n",
      " [0 0 1]\n",
      " [0 0 1]\n",
      " [0 0 1]\n",
      " [0 0 1]\n",
      " [0 0 1]\n",
      " [0 0 1]\n",
      " [0 0 1]\n",
      " [0 0 1]\n",
      " [0 0 1]\n",
      " [0 0 1]\n",
      " [0 0 1]\n",
      " [0 0 1]\n",
      " [0 0 1]\n",
      " [0 0 1]\n",
      " [0 0 1]\n",
      " [0 0 1]\n",
      " [0 0 1]\n",
      " [0 0 1]\n",
      " [0 0 1]\n",
      " [0 0 1]\n",
      " [0 0 1]\n",
      " [0 0 1]\n",
      " [0 0 1]\n",
      " [0 0 1]\n",
      " [0 0 1]\n",
      " [0 0 1]\n",
      " [0 0 1]\n",
      " [0 0 1]\n",
      " [0 0 1]\n",
      " [0 0 1]\n",
      " [0 0 1]]\n"
     ]
    }
   ],
   "source": [
    "iris = load_iris()#Load the data\n",
    "iris_X, iris_y = iris.data[:-1,:], iris.target[:-1]  #Access the required data\n",
    "print(iris_y)\n",
    "iris_y= pd.get_dummies(iris_y).values #Convert categorical values to indicator variables\n",
    "print(iris_y)\n",
    "trainX, testX, trainY, testY = train_test_split(iris_X, iris_y, test_size=0.33, random_state=42) #Train test split the data"
   ]
  },
  {
   "cell_type": "code",
   "execution_count": 3,
   "metadata": {},
   "outputs": [],
   "source": [
    "# numFeatures is the number of features in our input data.\n",
    "# In the iris dataset, this number is '4'.\n",
    "numFeatures = trainX.shape[1]\n",
    "\n",
    "# numLabels is the number of classes our data points can be in.\n",
    "# In the iris dataset, this number is '3'.\n",
    "numLabels = trainY.shape[1]\n",
    "\n",
    "\n",
    "# Placeholders\n",
    "# 'None' means TensorFlow shouldn't expect a fixed number in that dimension\n",
    "X = tf.compat.v1.placeholder(tf.float32, [None, numFeatures]) # Iris has 4 features, so X is a tensor to hold our data.\n",
    "yGold = tf.compat.v1.placeholder(tf.float32, [None, numLabels]) # This will be our correct answers matrix for 3 classes."
   ]
  },
  {
   "cell_type": "markdown",
   "metadata": {},
   "source": [
    "## Setup model weights and bias"
   ]
  },
  {
   "cell_type": "code",
   "execution_count": 4,
   "metadata": {},
   "outputs": [
    {
     "name": "stdout",
     "output_type": "stream",
     "text": [
      "WARNING:tensorflow:From c:\\users\\kabil\\appdata\\local\\programs\\python\\python36\\lib\\site-packages\\tensorflow_core\\python\\ops\\resource_variable_ops.py:1635: calling BaseResourceVariable.__init__ (from tensorflow.python.ops.resource_variable_ops) with constraint is deprecated and will be removed in a future version.\n",
      "Instructions for updating:\n",
      "If using Keras pass *_constraint arguments to layers.\n"
     ]
    }
   ],
   "source": [
    "W = tf.Variable(tf.zeros([4, 3]))  # 4-dimensional input and  3 classes\n",
    "b = tf.Variable(tf.zeros([3])) # 3-dimensional output [0,0,1],[0,1,0],[1,0,0]"
   ]
  },
  {
   "cell_type": "code",
   "execution_count": 5,
   "metadata": {},
   "outputs": [],
   "source": [
    "#Randomly sample from a normal distribution with standard deviation .01\n",
    "\n",
    "weights = tf.Variable(tf.compat.v1.random_normal([numFeatures,numLabels],\n",
    "                                       mean=0,\n",
    "                                       stddev=0.01,\n",
    "                                       name=\"weights\"))\n",
    "\n",
    "bias = tf.Variable(tf.compat.v1.random_normal([1,numLabels],\n",
    "                                    mean=0,\n",
    "                                    stddev=0.01,\n",
    "                                    name=\"bias\"))"
   ]
  },
  {
   "cell_type": "markdown",
   "metadata": {},
   "source": [
    "## Logistic regression model"
   ]
  },
  {
   "cell_type": "code",
   "execution_count": 6,
   "metadata": {},
   "outputs": [],
   "source": [
    "# Three-component breakdown of the Logistic Regression equation.\n",
    "# Note that these feed into each other.\n",
    "apply_weights_OP = tf.matmul(X, weights, name=\"apply_weights\")\n",
    "add_bias_OP = tf.add(apply_weights_OP, bias, name=\"add_bias\") \n",
    "activation_OP = tf.nn.sigmoid(add_bias_OP, name=\"activation\")"
   ]
  },
  {
   "cell_type": "markdown",
   "metadata": {},
   "source": [
    "## Cost Function"
   ]
  },
  {
   "cell_type": "code",
   "execution_count": 7,
   "metadata": {},
   "outputs": [],
   "source": [
    "# Number of Epochs in our training\n",
    "numEpochs = 700\n",
    "\n",
    "# Defining our learning rate iterations (decay)\n",
    "learningRate = tf.compat.v1.train.exponential_decay(learning_rate=0.0008,\n",
    "                                          global_step= 1,\n",
    "                                          decay_steps=trainX.shape[0],\n",
    "                                          decay_rate= 0.95,\n",
    "                                          staircase=True)"
   ]
  },
  {
   "cell_type": "code",
   "execution_count": 8,
   "metadata": {},
   "outputs": [],
   "source": [
    "#Defining our cost function - Squared Mean Error\n",
    "cost_OP = tf.nn.l2_loss(activation_OP-yGold, name=\"squared_error_cost\")\n",
    "\n",
    "#Defining our Gradient Descent\n",
    "training_OP = tf.compat.v1.train.GradientDescentOptimizer(learningRate).minimize(cost_OP)"
   ]
  },
  {
   "cell_type": "markdown",
   "metadata": {},
   "source": [
    "## Initialize the variables"
   ]
  },
  {
   "cell_type": "code",
   "execution_count": 9,
   "metadata": {},
   "outputs": [],
   "source": [
    "# Create a tensorflow session\n",
    "sess = tf.compat.v1.Session()\n",
    "\n",
    "# Initialize our weights and biases variables.\n",
    "init_OP = tf.compat.v1.global_variables_initializer()\n",
    "\n",
    "# Initialize all tensorflow variables\n",
    "sess.run(init_OP)"
   ]
  },
  {
   "cell_type": "markdown",
   "metadata": {},
   "source": [
    "## Train the model"
   ]
  },
  {
   "cell_type": "code",
   "execution_count": 10,
   "metadata": {},
   "outputs": [
    {
     "name": "stdout",
     "output_type": "stream",
     "text": [
      "step 0, training accuracy 0.333333, cost 34.5265, change in cost 34.5265\n",
      "step 10, training accuracy 0.535354, cost 30.2258, change in cost 4.30071\n",
      "step 20, training accuracy 0.646465, cost 28.2629, change in cost 1.96287\n",
      "step 30, training accuracy 0.646465, cost 26.6015, change in cost 1.66143\n",
      "step 40, training accuracy 0.646465, cost 25.219, change in cost 1.38254\n",
      "step 50, training accuracy 0.646465, cost 24.0763, change in cost 1.14271\n",
      "step 60, training accuracy 0.646465, cost 23.1306, change in cost 0.945684\n",
      "step 70, training accuracy 0.646465, cost 22.3432, change in cost 0.787399\n",
      "step 80, training accuracy 0.646465, cost 21.6819, change in cost 0.661314\n",
      "step 90, training accuracy 0.646465, cost 21.121, change in cost 0.56089\n",
      "step 100, training accuracy 0.666667, cost 20.6404, change in cost 0.480549\n",
      "step 110, training accuracy 0.666667, cost 20.2246, change in cost 0.415825\n",
      "step 120, training accuracy 0.666667, cost 19.8614, change in cost 0.363256\n",
      "step 130, training accuracy 0.666667, cost 19.5412, change in cost 0.320181\n",
      "step 140, training accuracy 0.666667, cost 19.2566, change in cost 0.284575\n",
      "step 150, training accuracy 0.666667, cost 19.0017, change in cost 0.254896\n",
      "step 160, training accuracy 0.676768, cost 18.7718, change in cost 0.229939\n",
      "step 170, training accuracy 0.686869, cost 18.563, change in cost 0.208797\n",
      "step 180, training accuracy 0.69697, cost 18.3722, change in cost 0.19075\n",
      "step 190, training accuracy 0.717172, cost 18.197, change in cost 0.17523\n",
      "step 200, training accuracy 0.717172, cost 18.0352, change in cost 0.161804\n",
      "step 210, training accuracy 0.737374, cost 17.8851, change in cost 0.150106\n",
      "step 220, training accuracy 0.747475, cost 17.7452, change in cost 0.139862\n",
      "step 230, training accuracy 0.747475, cost 17.6144, change in cost 0.130833\n",
      "step 240, training accuracy 0.757576, cost 17.4915, change in cost 0.122841\n",
      "step 250, training accuracy 0.787879, cost 17.3758, change in cost 0.115725\n",
      "step 260, training accuracy 0.787879, cost 17.2665, change in cost 0.109362\n",
      "step 270, training accuracy 0.787879, cost 17.1628, change in cost 0.103645\n",
      "step 280, training accuracy 0.787879, cost 17.0643, change in cost 0.0984917\n",
      "step 290, training accuracy 0.787879, cost 16.9705, change in cost 0.0938206\n",
      "step 300, training accuracy 0.79798, cost 16.8809, change in cost 0.0895767\n",
      "step 310, training accuracy 0.79798, cost 16.7952, change in cost 0.0857029\n",
      "step 320, training accuracy 0.79798, cost 16.7131, change in cost 0.0821571\n",
      "step 330, training accuracy 0.79798, cost 16.6342, change in cost 0.0789032\n",
      "step 340, training accuracy 0.818182, cost 16.5583, change in cost 0.075901\n",
      "step 350, training accuracy 0.828283, cost 16.4851, change in cost 0.0731297\n",
      "step 360, training accuracy 0.838384, cost 16.4146, change in cost 0.0705643\n",
      "step 370, training accuracy 0.838384, cost 16.3464, change in cost 0.0681744\n",
      "step 380, training accuracy 0.838384, cost 16.2804, change in cost 0.0659523\n",
      "step 390, training accuracy 0.848485, cost 16.2166, change in cost 0.0638771\n",
      "step 400, training accuracy 0.848485, cost 16.1546, change in cost 0.0619373\n",
      "step 410, training accuracy 0.848485, cost 16.0945, change in cost 0.0601139\n",
      "step 420, training accuracy 0.848485, cost 16.0361, change in cost 0.0584049\n",
      "step 430, training accuracy 0.858586, cost 15.9793, change in cost 0.0567942\n",
      "step 440, training accuracy 0.858586, cost 15.924, change in cost 0.0552731\n",
      "step 450, training accuracy 0.868687, cost 15.8702, change in cost 0.0538349\n",
      "step 460, training accuracy 0.878788, cost 15.8177, change in cost 0.052475\n",
      "step 470, training accuracy 0.878788, cost 15.7665, change in cost 0.0511856\n",
      "step 480, training accuracy 0.878788, cost 15.7166, change in cost 0.0499601\n",
      "step 490, training accuracy 0.878788, cost 15.6678, change in cost 0.0487938\n",
      "step 500, training accuracy 0.878788, cost 15.6201, change in cost 0.0476856\n",
      "step 510, training accuracy 0.878788, cost 15.5735, change in cost 0.0466232\n",
      "step 520, training accuracy 0.878788, cost 15.5279, change in cost 0.0456123\n",
      "step 530, training accuracy 0.888889, cost 15.4832, change in cost 0.0446444\n",
      "step 540, training accuracy 0.89899, cost 15.4395, change in cost 0.0437174\n",
      "step 550, training accuracy 0.89899, cost 15.3967, change in cost 0.0428314\n",
      "step 560, training accuracy 0.89899, cost 15.3547, change in cost 0.0419769\n",
      "step 570, training accuracy 0.89899, cost 15.3135, change in cost 0.0411587\n",
      "step 580, training accuracy 0.89899, cost 15.2732, change in cost 0.0403738\n",
      "step 590, training accuracy 0.909091, cost 15.2335, change in cost 0.0396118\n",
      "step 600, training accuracy 0.909091, cost 15.1947, change in cost 0.0388842\n",
      "step 610, training accuracy 0.909091, cost 15.1565, change in cost 0.0381794\n",
      "step 620, training accuracy 0.909091, cost 15.119, change in cost 0.0375013\n",
      "step 630, training accuracy 0.909091, cost 15.0821, change in cost 0.0368433\n",
      "step 640, training accuracy 0.909091, cost 15.0459, change in cost 0.0362101\n",
      "step 650, training accuracy 0.909091, cost 15.0103, change in cost 0.0355978\n",
      "step 660, training accuracy 0.909091, cost 14.9753, change in cost 0.0350037\n",
      "step 670, training accuracy 0.909091, cost 14.9409, change in cost 0.0344276\n",
      "step 680, training accuracy 0.909091, cost 14.907, change in cost 0.0338726\n",
      "step 690, training accuracy 0.909091, cost 14.8737, change in cost 0.03333\n",
      "final accuracy on test set: 0.9\n"
     ]
    }
   ],
   "source": [
    "# argmax(activation_OP, 1) returns the label with the most probability\n",
    "# argmax(yGold, 1) is the correct label\n",
    "correct_predictions_OP = tf.equal(tf.argmax(activation_OP,1),tf.argmax(yGold,1))\n",
    "\n",
    "# If every false prediction is 0 and every true prediction is 1, the average returns us the accuracy\n",
    "accuracy_OP = tf.reduce_mean(tf.cast(correct_predictions_OP, \"float\"))\n",
    "\n",
    "# Initialize reporting variables\n",
    "cost = 0\n",
    "diff = 1\n",
    "epoch_values = []\n",
    "accuracy_values = []\n",
    "cost_values = []\n",
    "\n",
    "# Training epochs\n",
    "for i in range(numEpochs):\n",
    "    if i > 1 and diff < .0001:\n",
    "        print(\"change in cost %g; convergence.\"%diff)\n",
    "        break\n",
    "    else:\n",
    "        # Run training step\n",
    "        step = sess.run(training_OP, feed_dict={X: trainX, yGold: trainY})\n",
    "        # Report occasional stats\n",
    "        if i % 10 == 0:\n",
    "            # Add epoch to epoch_values\n",
    "            epoch_values.append(i)\n",
    "            # Generate accuracy stats on test data\n",
    "            train_accuracy, newCost = sess.run([accuracy_OP, cost_OP], feed_dict={X: trainX, yGold: trainY})\n",
    "            # Add accuracy to live graphing variable\n",
    "            accuracy_values.append(train_accuracy)\n",
    "            # Add cost to live graphing variable\n",
    "            cost_values.append(newCost)\n",
    "            # Re-assign values for variables\n",
    "            diff = abs(newCost - cost)\n",
    "            cost = newCost\n",
    "\n",
    "            #generate print statements\n",
    "            print(\"step %d, training accuracy %g, cost %g, change in cost %g\"%(i, train_accuracy, newCost, diff))\n",
    "\n",
    "\n",
    "# How well do we perform on held-out test data?\n",
    "print(\"final accuracy on test set: %s\" %str(sess.run(accuracy_OP, \n",
    "                                                     feed_dict={X: testX, \n",
    "                                                                yGold: testY})))"
   ]
  },
  {
   "cell_type": "code",
   "execution_count": 12,
   "metadata": {},
   "outputs": [],
   "source": [
    "## Check the change in Cost"
   ]
  },
  {
   "cell_type": "code",
   "execution_count": 11,
   "metadata": {
    "scrolled": true
   },
   "outputs": [
    {
     "name": "stderr",
     "output_type": "stream",
     "text": [
      "c:\\users\\kabil\\appdata\\local\\programs\\python\\python36\\lib\\site-packages\\numpy\\core\\fromnumeric.py:3335: RuntimeWarning: Mean of empty slice.\n",
      "  out=out, **kwargs)\n",
      "c:\\users\\kabil\\appdata\\local\\programs\\python\\python36\\lib\\site-packages\\numpy\\core\\_methods.py:161: RuntimeWarning: invalid value encountered in double_scalars\n",
      "  ret = ret.dtype.type(ret / rcount)\n"
     ]
    },
    {
     "data": {
      "image/png": "[encoded data removed]",
      "text/plain": [
       "<Figure size 432x288 with 1 Axes>"
      ]
     },
     "metadata": {
      "needs_background": "light"
     },
     "output_type": "display_data"
    }
   ],
   "source": [
    "%matplotlib inline\n",
    "import numpy as np\n",
    "import matplotlib.pyplot as plt\n",
    "plt.plot([np.mean(cost_values[i-50:i]) for i in range(len(cost_values))])\n",
    "plt.show()"
   ]
  },
  {
   "cell_type": "code",
   "execution_count": null,
   "metadata": {},
   "outputs": [],
   "source": []
  }
 ],
 "metadata": {
  "kernelspec": {
   "display_name": "Python 3",
   "language": "python",
   "name": "python3"
  },
  "language_info": {
   "codemirror_mode": {
    "name": "ipython",
    "version": 3
   },
   "file_extension": ".py",
   "mimetype": "text/x-python",
   "name": "python",
   "nbconvert_exporter": "python",
   "pygments_lexer": "ipython3",
   "version": "3.6.6"
  }
 },
 "nbformat": 4,
 "nbformat_minor": 4
}
